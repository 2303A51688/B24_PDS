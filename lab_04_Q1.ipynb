{
  "nbformat": 4,
  "nbformat_minor": 0,
  "metadata": {
    "colab": {
      "provenance": [],
      "authorship_tag": "ABX9TyOQn1nI3vAgByq2jF1HaeQ0",
      "include_colab_link": true
    },
    "kernelspec": {
      "name": "python3",
      "display_name": "Python 3"
    },
    "language_info": {
      "name": "python"
    }
  },
  "cells": [
    {
      "cell_type": "markdown",
      "metadata": {
        "id": "view-in-github",
        "colab_type": "text"
      },
      "source": [
        "<a href=\"https://colab.research.google.com/github/2303A51688/B24_PDS/blob/main/lab_04_Q1.ipynb\" target=\"_parent\"><img src=\"https://colab.research.google.com/assets/colab-badge.svg\" alt=\"Open In Colab\"/></a>"
      ]
    },
    {
      "cell_type": "code",
      "source": [
        "import pandas as pd"
      ],
      "metadata": {
        "id": "qO5Std0dcxI8"
      },
      "execution_count": 8,
      "outputs": []
    },
    {
      "cell_type": "code",
      "source": [
        "df = pd.read_csv(\"course_feedback.csv\")"
      ],
      "metadata": {
        "id": "sVt__GWnc146"
      },
      "execution_count": 9,
      "outputs": []
    },
    {
      "cell_type": "code",
      "source": [
        "df = df.dropna(subset=[\"Rating\"])"
      ],
      "metadata": {
        "id": "L_DpoBC7c5Xn"
      },
      "execution_count": 10,
      "outputs": []
    },
    {
      "cell_type": "code",
      "source": [
        "filtered = df[\n",
        "    (df[\"Course_Name\"] == \"Python for Data Science\") &\n",
        "    (df[\"Rating\"] >= 4)\n",
        "]"
      ],
      "metadata": {
        "id": "Y9K2QeS9c7bC"
      },
      "execution_count": 11,
      "outputs": []
    },
    {
      "cell_type": "code",
      "source": [
        "result = filtered[[\"User_ID\", \"Feedback\"]]\n",
        "\n",
        "print(\"Meaningful Feedback for 'Python for Data Science':\\n\")\n",
        "print(result.to_string(index=False))"
      ],
      "metadata": {
        "colab": {
          "base_uri": "https://localhost:8080/"
        },
        "id": "NXc28absc-ET",
        "outputId": "9180eaae-322d-43ea-9ceb-7463717c693a"
      },
      "execution_count": 12,
      "outputs": [
        {
          "output_type": "stream",
          "name": "stdout",
          "text": [
            "Meaningful Feedback for 'Python for Data Science':\n",
            "\n",
            "User_ID                        Feedback\n",
            "   U001 Great course, very informative!\n",
            "   U002 Good explanations and examples.\n"
          ]
        }
      ]
    }
  ]
}